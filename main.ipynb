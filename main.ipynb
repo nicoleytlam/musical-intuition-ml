{
 "cells": [
  {
   "cell_type": "code",
   "execution_count": 8,
   "metadata": {},
   "outputs": [],
   "source": [
    "from src.data_loader import load_full_data, load_filtered_data\n",
    "from src.features import get_features_and_target\n",
    "from src.models import train_linear, train_ridge, train_lasso\n",
    "from src.utils import split_data\n",
    "from src.evaluation import evaluate_model, print_coefficients, cross_validate_model, bootstrap_prediction_intervals, kfold_bootstrap_ci_analysis\n",
    "import pandas as pd"
   ]
  },
  {
   "cell_type": "markdown",
   "metadata": {},
   "source": [
    "## Linear Regression (authentic cadence, notes only)"
   ]
  },
  {
   "cell_type": "code",
   "execution_count": 3,
   "metadata": {},
   "outputs": [
    {
     "name": "stdout",
     "output_type": "stream",
     "text": [
      "***** Evaluation Results *****\n",
      "Training set mean squared error: 7.3774\n",
      "Training set r-squared score: 0.1518\n",
      "Validation set mean squared error: 12.1147\n",
      "Validation set r-squared score: -2.8636\n",
      "Testing set mean squared error: 6.6147\n",
      "Testing set r-squared score: 0.0637\n",
      "\n",
      "Learned coefficients (weights for each step):\n",
      "Step 1: 0.0204\n",
      "Step 2: -0.0118\n",
      "Step 3: 0.0379\n",
      "Step 4: -0.3298\n",
      "Step 5: 0.0316\n",
      "Step 6: 0.1828\n",
      "\n",
      "***** 5-Fold Cross-Validation (Linear) Results *****\n",
      "Fold 1: MSE = 20.7250, R² = -1.3075\n",
      "Fold 2: MSE = 27.5917, R² = -0.7690\n",
      "Fold 3: MSE = 12.5057, R² = -0.6966\n",
      "Fold 4: MSE = 16.2414, R² = -0.7736\n",
      "Fold 5: MSE = 13.8226, R² = -3.7817\n",
      "\n",
      "***** Average over 5 folds *****\n",
      "Average MSE: 18.1773\n",
      "Average R²: -1.4657\n",
      "\n",
      "Overall coverage across all folds: 48.89% within 95% CI\n"
     ]
    }
   ],
   "source": [
    "# --- Load truncated stems of authentic cadence ---\n",
    "filepath = 'data/truncated_stems.csv'\n",
    "df = load_filtered_data(filepath, prefix=\"HC\")\n",
    "X, y = get_features_and_target(df, feature_steps=range(1,7), target_col='step7')\n",
    "\n",
    "# --- Split data ---\n",
    "x_train, y_train, x_val, y_val, x_test, y_test = split_data(X, y)\n",
    "\n",
    "# --- Train model ---\n",
    "model = train_linear(x_train, y_train)\n",
    "\n",
    "# --- Evaluate model ---\n",
    "evaluate_model(model, x_train, y_train, x_val, y_val, x_test, y_test)\n",
    "\n",
    "# --- Print coefficients ---\n",
    "print_coefficients(model)\n",
    "\n",
    "# --- 5-fold cross-validation ---\n",
    "cross_validate_model(X, y, k=5)\n",
    "\n",
    "ci_df = kfold_bootstrap_ci_analysis(\n",
    "    model_type=\"linear\",\n",
    "    X=X,\n",
    "    y=y,\n",
    "    k=5,\n",
    "    n_bootstraps=500,\n",
    "    alpha=0.05,\n",
    "    plot=False\n",
    ")"
   ]
  },
  {
   "cell_type": "markdown",
   "metadata": {},
   "source": [
    "## Linear Regression (authentic cadence, notes and key)"
   ]
  },
  {
   "cell_type": "code",
   "execution_count": 15,
   "metadata": {},
   "outputs": [
    {
     "ename": "TypeError",
     "evalue": "unsupported operand type(s) for +: 'range' and 'int'",
     "output_type": "error",
     "traceback": [
      "\u001b[0;31m---------------------------------------------------------------------------\u001b[0m",
      "\u001b[0;31mTypeError\u001b[0m                                 Traceback (most recent call last)",
      "Cell \u001b[0;32mIn[15], line 1\u001b[0m\n\u001b[0;32m----> 1\u001b[0m \u001b[38;5;28mlist\u001b[39m(\u001b[38;5;28;43mrange\u001b[39;49m\u001b[43m(\u001b[49m\u001b[38;5;241;43m1\u001b[39;49m\u001b[43m,\u001b[49m\u001b[38;5;241;43m7\u001b[39;49m\u001b[43m)\u001b[49m\u001b[43m \u001b[49m\u001b[38;5;241;43m+\u001b[39;49m\u001b[43m  \u001b[49m\u001b[38;5;241;43m9\u001b[39;49m)\n",
      "\u001b[0;31mTypeError\u001b[0m: unsupported operand type(s) for +: 'range' and 'int'"
     ]
    }
   ],
   "source": [
    "list(range(1,7) +  9)"
   ]
  },
  {
   "cell_type": "code",
   "execution_count": 22,
   "metadata": {},
   "outputs": [
    {
     "name": "stdout",
     "output_type": "stream",
     "text": [
      "   step1  step2  step3  step4  step5  step6  key_midi  V_midi\n",
      "0     62     69     66     64     57     61      62.0    69.0\n",
      "1     67     65     64     62     60     59      60.0    67.0\n",
      "2     64     59     68     69     66     63       NaN     NaN\n",
      "3     70     63     68     67     65     62       NaN     NaN\n",
      "4     61     68     63     68     60     68      64.0    71.0\n"
     ]
    },
    {
     "ename": "KeyError",
     "evalue": "\"None of [Index([29, 36, 39, 32, 40,  5, 26, 17, 14, 28, 34, 16, 13, 38, 35,  1, 15, 44,\\n       11, 41, 23,  4, 18,  0, 24,  7, 30, 31, 43,  9, 10,  6, 27, 19,  3,  2],\\n      dtype='int64')] are in the [columns]\"",
     "output_type": "error",
     "traceback": [
      "\u001b[0;31m---------------------------------------------------------------------------\u001b[0m",
      "\u001b[0;31mKeyError\u001b[0m                                  Traceback (most recent call last)",
      "Cell \u001b[0;32mIn[22], line 19\u001b[0m\n\u001b[1;32m     17\u001b[0m \u001b[38;5;28mprint\u001b[39m(X\u001b[38;5;241m.\u001b[39mhead())\n\u001b[1;32m     18\u001b[0m \u001b[38;5;66;03m# --- Split data ---\u001b[39;00m\n\u001b[0;32m---> 19\u001b[0m x_train, y_train, x_val, y_val, x_test, y_test \u001b[38;5;241m=\u001b[39m \u001b[43msplit_data\u001b[49m\u001b[43m(\u001b[49m\u001b[43mX\u001b[49m\u001b[43m,\u001b[49m\u001b[43m \u001b[49m\u001b[43my\u001b[49m\u001b[43m)\u001b[49m\n\u001b[1;32m     21\u001b[0m \u001b[38;5;66;03m# --- Train model ---\u001b[39;00m\n\u001b[1;32m     22\u001b[0m model \u001b[38;5;241m=\u001b[39m train_linear(x_train, y_train)\n",
      "File \u001b[0;32m~/Desktop/Yale/8-Sp25/CPSC 581/Final Project/musical-intuition-ml/src/utils.py:25\u001b[0m, in \u001b[0;36msplit_data\u001b[0;34m(X, y, train_size, val_size)\u001b[0m\n\u001b[1;32m     22\u001b[0m val_indices \u001b[38;5;241m=\u001b[39m shuffled_indices[train_split_idx:val_split_idx]\n\u001b[1;32m     23\u001b[0m test_indices \u001b[38;5;241m=\u001b[39m shuffled_indices[val_split_idx:]\n\u001b[0;32m---> 25\u001b[0m x_train, y_train \u001b[38;5;241m=\u001b[39m \u001b[43mX\u001b[49m\u001b[43m[\u001b[49m\u001b[43mtrain_indices\u001b[49m\u001b[43m]\u001b[49m, y[train_indices]\n\u001b[1;32m     26\u001b[0m x_val, y_val \u001b[38;5;241m=\u001b[39m X[val_indices], y[val_indices]\n\u001b[1;32m     27\u001b[0m x_test, y_test \u001b[38;5;241m=\u001b[39m X[test_indices], y[test_indices]\n",
      "File \u001b[0;32m~/opt/anaconda3/envs/venv/lib/python3.10/site-packages/pandas/core/frame.py:3899\u001b[0m, in \u001b[0;36mDataFrame.__getitem__\u001b[0;34m(self, key)\u001b[0m\n\u001b[1;32m   3897\u001b[0m     \u001b[38;5;28;01mif\u001b[39;00m is_iterator(key):\n\u001b[1;32m   3898\u001b[0m         key \u001b[38;5;241m=\u001b[39m \u001b[38;5;28mlist\u001b[39m(key)\n\u001b[0;32m-> 3899\u001b[0m     indexer \u001b[38;5;241m=\u001b[39m \u001b[38;5;28;43mself\u001b[39;49m\u001b[38;5;241;43m.\u001b[39;49m\u001b[43mcolumns\u001b[49m\u001b[38;5;241;43m.\u001b[39;49m\u001b[43m_get_indexer_strict\u001b[49m\u001b[43m(\u001b[49m\u001b[43mkey\u001b[49m\u001b[43m,\u001b[49m\u001b[43m \u001b[49m\u001b[38;5;124;43m\"\u001b[39;49m\u001b[38;5;124;43mcolumns\u001b[39;49m\u001b[38;5;124;43m\"\u001b[39;49m\u001b[43m)\u001b[49m[\u001b[38;5;241m1\u001b[39m]\n\u001b[1;32m   3901\u001b[0m \u001b[38;5;66;03m# take() does not accept boolean indexers\u001b[39;00m\n\u001b[1;32m   3902\u001b[0m \u001b[38;5;28;01mif\u001b[39;00m \u001b[38;5;28mgetattr\u001b[39m(indexer, \u001b[38;5;124m\"\u001b[39m\u001b[38;5;124mdtype\u001b[39m\u001b[38;5;124m\"\u001b[39m, \u001b[38;5;28;01mNone\u001b[39;00m) \u001b[38;5;241m==\u001b[39m \u001b[38;5;28mbool\u001b[39m:\n",
      "File \u001b[0;32m~/opt/anaconda3/envs/venv/lib/python3.10/site-packages/pandas/core/indexes/base.py:6115\u001b[0m, in \u001b[0;36mIndex._get_indexer_strict\u001b[0;34m(self, key, axis_name)\u001b[0m\n\u001b[1;32m   6112\u001b[0m \u001b[38;5;28;01melse\u001b[39;00m:\n\u001b[1;32m   6113\u001b[0m     keyarr, indexer, new_indexer \u001b[38;5;241m=\u001b[39m \u001b[38;5;28mself\u001b[39m\u001b[38;5;241m.\u001b[39m_reindex_non_unique(keyarr)\n\u001b[0;32m-> 6115\u001b[0m \u001b[38;5;28;43mself\u001b[39;49m\u001b[38;5;241;43m.\u001b[39;49m\u001b[43m_raise_if_missing\u001b[49m\u001b[43m(\u001b[49m\u001b[43mkeyarr\u001b[49m\u001b[43m,\u001b[49m\u001b[43m \u001b[49m\u001b[43mindexer\u001b[49m\u001b[43m,\u001b[49m\u001b[43m \u001b[49m\u001b[43maxis_name\u001b[49m\u001b[43m)\u001b[49m\n\u001b[1;32m   6117\u001b[0m keyarr \u001b[38;5;241m=\u001b[39m \u001b[38;5;28mself\u001b[39m\u001b[38;5;241m.\u001b[39mtake(indexer)\n\u001b[1;32m   6118\u001b[0m \u001b[38;5;28;01mif\u001b[39;00m \u001b[38;5;28misinstance\u001b[39m(key, Index):\n\u001b[1;32m   6119\u001b[0m     \u001b[38;5;66;03m# GH 42790 - Preserve name from an Index\u001b[39;00m\n",
      "File \u001b[0;32m~/opt/anaconda3/envs/venv/lib/python3.10/site-packages/pandas/core/indexes/base.py:6176\u001b[0m, in \u001b[0;36mIndex._raise_if_missing\u001b[0;34m(self, key, indexer, axis_name)\u001b[0m\n\u001b[1;32m   6174\u001b[0m     \u001b[38;5;28;01mif\u001b[39;00m use_interval_msg:\n\u001b[1;32m   6175\u001b[0m         key \u001b[38;5;241m=\u001b[39m \u001b[38;5;28mlist\u001b[39m(key)\n\u001b[0;32m-> 6176\u001b[0m     \u001b[38;5;28;01mraise\u001b[39;00m \u001b[38;5;167;01mKeyError\u001b[39;00m(\u001b[38;5;124mf\u001b[39m\u001b[38;5;124m\"\u001b[39m\u001b[38;5;124mNone of [\u001b[39m\u001b[38;5;132;01m{\u001b[39;00mkey\u001b[38;5;132;01m}\u001b[39;00m\u001b[38;5;124m] are in the [\u001b[39m\u001b[38;5;132;01m{\u001b[39;00maxis_name\u001b[38;5;132;01m}\u001b[39;00m\u001b[38;5;124m]\u001b[39m\u001b[38;5;124m\"\u001b[39m)\n\u001b[1;32m   6178\u001b[0m not_found \u001b[38;5;241m=\u001b[39m \u001b[38;5;28mlist\u001b[39m(ensure_index(key)[missing_mask\u001b[38;5;241m.\u001b[39mnonzero()[\u001b[38;5;241m0\u001b[39m]]\u001b[38;5;241m.\u001b[39munique())\n\u001b[1;32m   6179\u001b[0m \u001b[38;5;28;01mraise\u001b[39;00m \u001b[38;5;167;01mKeyError\u001b[39;00m(\u001b[38;5;124mf\u001b[39m\u001b[38;5;124m\"\u001b[39m\u001b[38;5;132;01m{\u001b[39;00mnot_found\u001b[38;5;132;01m}\u001b[39;00m\u001b[38;5;124m not in index\u001b[39m\u001b[38;5;124m\"\u001b[39m)\n",
      "\u001b[0;31mKeyError\u001b[0m: \"None of [Index([29, 36, 39, 32, 40,  5, 26, 17, 14, 28, 34, 16, 13, 38, 35,  1, 15, 44,\\n       11, 41, 23,  4, 18,  0, 24,  7, 30, 31, 43,  9, 10,  6, 27, 19,  3,  2],\\n      dtype='int64')] are in the [columns]\""
     ]
    }
   ],
   "source": [
    "# --- Load truncated stems of authentic cadence ---\n",
    "filepath = 'data/truncated_stems.csv'\n",
    "df = load_filtered_data(filepath, prefix=\"HC\")\n",
    "# --- Add key feature ---\n",
    "KEY_TO_MIDI = {\n",
    "    'C': 60, 'C_sharp': 61, 'D_flat': 61, 'D': 62, 'E_flat': 63, 'E': 64,\n",
    "    'F': 65, 'F_sharp': 66, 'G': 67, 'A_flat': 68, 'A': 69, 'B_flat': 70, 'B': 71\n",
    "}\n",
    "df['key'] = df['key'].map(KEY_TO_MIDI)\n",
    "\n",
    "# --- Extract features and target ---\n",
    "X_array, y = get_features_and_target(df, feature_steps=range(1, 7), target_col='step7')\n",
    "X = pd.DataFrame(X_array, columns=[f'step{i}' for i in range(1, 7)])\n",
    "X['key_midi'] = df['key']\n",
    "X['V_midi'] = df['V_chord_root']\n",
    "\n",
    "print(X.head())\n",
    "# --- Split data ---\n",
    "x_train, y_train, x_val, y_val, x_test, y_test = split_data(X, y)\n",
    "\n",
    "# --- Train model ---\n",
    "model = train_linear(x_train, y_train)\n",
    "\n",
    "# --- Evaluate model ---\n",
    "evaluate_model(model, x_train, y_train, x_val, y_val, x_test, y_test)\n",
    "\n",
    "# --- Print coefficients ---\n",
    "print_coefficients(model)\n",
    "\n",
    "# --- 5-fold cross-validation ---\n",
    "cross_validate_model(X, y, k=5)\n",
    "\n",
    "ci_df = kfold_bootstrap_ci_analysis(\n",
    "    model_type=\"linear\",\n",
    "    X=X,\n",
    "    y=y,\n",
    "    k=5,\n",
    "    n_bootstraps=500,\n",
    "    alpha=0.05,\n",
    "    plot=False\n",
    ")"
   ]
  },
  {
   "cell_type": "markdown",
   "metadata": {},
   "source": [
    "## Linear Regression (all cadences, notes only)"
   ]
  },
  {
   "cell_type": "code",
   "execution_count": 3,
   "metadata": {},
   "outputs": [
    {
     "name": "stdout",
     "output_type": "stream",
     "text": [
      "***** Evaluation Results *****\n",
      "Training set mean squared error: 5.6634\n",
      "Training set r-squared score: 0.2112\n",
      "Validation set mean squared error: 10.2998\n",
      "Validation set r-squared score: -0.2790\n",
      "Testing set mean squared error: 8.6078\n",
      "Testing set r-squared score: 0.2082\n",
      "\n",
      "Learned coefficients (weights for each step):\n",
      "Step 1: 0.0133\n",
      "Step 2: -0.0184\n",
      "Step 3: -0.1234\n",
      "Step 4: -0.2153\n",
      "Step 5: 0.0817\n",
      "Step 6: 0.2319\n",
      "\n",
      "***** 5-Fold Cross-Validation (Linear) Results *****\n",
      "Fold 1: MSE = 15.5600, R² = -0.3990\n",
      "Fold 2: MSE = 12.7756, R² = -0.7904\n",
      "Fold 3: MSE = 12.8228, R² = -1.2000\n",
      "Fold 4: MSE = 17.9676, R² = -2.3728\n",
      "Fold 5: MSE = 8.2513, R² = -0.0406\n",
      "\n",
      "***** Average over 5 folds *****\n",
      "Average MSE: 13.4755\n",
      "Average R²: -0.9605\n",
      "\n",
      "Overall coverage across all folds: 40.00% within 95% CI\n"
     ]
    }
   ],
   "source": [
    "# --- Load truncated stems of all cadences ---\n",
    "filepath = 'data/truncated_stems.csv'\n",
    "df = load_full_data(filepath)\n",
    "X, y = get_features_and_target(df, feature_steps=range(1,7), target_col='step7')\n",
    "\n",
    "# --- Split data ---\n",
    "x_train, y_train, x_val, y_val, x_test, y_test = split_data(X, y)\n",
    "\n",
    "# --- Train model ---\n",
    "model = train_linear(x_train, y_train)\n",
    "\n",
    "# --- Evaluate model ---\n",
    "evaluate_model(model, x_train, y_train, x_val, y_val, x_test, y_test)\n",
    "\n",
    "# --- Print coefficients ---\n",
    "print_coefficients(model)\n",
    "\n",
    "# --- 5-fold cross-validation ---\n",
    "cross_validate_model(X, y, k=5)\n",
    "\n",
    "ci_df = kfold_bootstrap_ci_analysis(\n",
    "    model_type=\"linear\",\n",
    "    X=X,\n",
    "    y=y,\n",
    "    k=5,\n",
    "    n_bootstraps=500,\n",
    "    alpha=0.05,\n",
    "    plot=False\n",
    ")"
   ]
  },
  {
   "cell_type": "markdown",
   "metadata": {},
   "source": [
    "## Ridge Regression (authentic cadence, notes only)"
   ]
  },
  {
   "cell_type": "code",
   "execution_count": 4,
   "metadata": {},
   "outputs": [
    {
     "name": "stdout",
     "output_type": "stream",
     "text": [
      "***** Evaluation Results *****\n",
      "Training set mean squared error: 7.6793\n",
      "Training set r-squared score: 0.2272\n",
      "Validation set mean squared error: 6.2976\n",
      "Validation set r-squared score: -0.1631\n",
      "Testing set mean squared error: 8.7092\n",
      "Testing set r-squared score: -0.5411\n",
      "\n",
      "Learned coefficients (weights for each step):\n",
      "Step 1: 0.0072\n",
      "Step 2: -0.0285\n",
      "Step 3: -0.0547\n",
      "Step 4: -0.3580\n",
      "Step 5: 0.0635\n",
      "Step 6: 0.2785\n",
      "\n",
      "***** 5-Fold Cross-Validation (Ridge) Results *****\n",
      "Fold 1: MSE = 20.7225, R² = -1.3072\n",
      "Fold 2: MSE = 27.6016, R² = -0.7696\n",
      "Fold 3: MSE = 12.5043, R² = -0.6965\n",
      "Fold 4: MSE = 16.2126, R² = -0.7704\n",
      "Fold 5: MSE = 13.8129, R² = -3.7783\n",
      "\n",
      "***** Average over 5 folds *****\n",
      "Average MSE: 18.1708\n",
      "Average R²: -1.4644\n",
      "\n",
      "Overall coverage across all folds: 48.89% within 95% CI\n"
     ]
    }
   ],
   "source": [
    "# --- Load truncated stems of authentic cadence ---\n",
    "filepath = 'data/truncated_stems.csv'\n",
    "df = load_filtered_data(filepath)\n",
    "X, y = get_features_and_target(df, feature_steps=range(1,7), target_col='step7')\n",
    "\n",
    "# --- Split data ---\n",
    "x_train, y_train, x_val, y_val, x_test, y_test = split_data(X, y)\n",
    "\n",
    "# --- Train model ---\n",
    "model = train_ridge(x_train, y_train, alpha=1.0)\n",
    "\n",
    "# --- Evaluate model ---\n",
    "evaluate_model(model, x_train, y_train, x_val, y_val, x_test, y_test)\n",
    "\n",
    "# --- Print coefficients ---\n",
    "print_coefficients(model)\n",
    "\n",
    "# --- 5-fold cross-validation ---\n",
    "cross_validate_model(X, y, k=5, model_type=\"ridge\", alpha=1.0)\n",
    "\n",
    "ci_df = kfold_bootstrap_ci_analysis(\n",
    "    model_type=\"ridge\",\n",
    "    X=X,\n",
    "    y=y,\n",
    "    k=5,\n",
    "    n_bootstraps=500,\n",
    "    alpha=0.05,\n",
    "    plot=False\n",
    ")"
   ]
  },
  {
   "cell_type": "markdown",
   "metadata": {},
   "source": [
    "## Ridge Regression (all cadences, notes only)"
   ]
  },
  {
   "cell_type": "code",
   "execution_count": 5,
   "metadata": {},
   "outputs": [
    {
     "name": "stdout",
     "output_type": "stream",
     "text": [
      "***** Evaluation Results *****\n",
      "Training set mean squared error: 6.0329\n",
      "Training set r-squared score: 0.2457\n",
      "Validation set mean squared error: 11.1367\n",
      "Validation set r-squared score: -0.2184\n",
      "Testing set mean squared error: 6.1125\n",
      "Testing set r-squared score: -1.8013\n",
      "\n",
      "Learned coefficients (weights for each step):\n",
      "Step 1: -0.0146\n",
      "Step 2: -0.0244\n",
      "Step 3: -0.1317\n",
      "Step 4: -0.1984\n",
      "Step 5: 0.0409\n",
      "Step 6: 0.3217\n",
      "\n",
      "***** 5-Fold Cross-Validation (Ridge) Results *****\n",
      "Fold 1: MSE = 15.5606, R² = -0.3990\n",
      "Fold 2: MSE = 12.7722, R² = -0.7899\n",
      "Fold 3: MSE = 12.8167, R² = -1.1989\n",
      "Fold 4: MSE = 17.9668, R² = -2.3726\n",
      "Fold 5: MSE = 8.2545, R² = -0.0410\n",
      "\n",
      "***** Average over 5 folds *****\n",
      "Average MSE: 13.4741\n",
      "Average R²: -0.9603\n",
      "\n",
      "Overall coverage across all folds: 37.78% within 95% CI\n"
     ]
    }
   ],
   "source": [
    "# --- Load truncated stems of all cadences ---\n",
    "filepath = 'data/truncated_stems.csv'\n",
    "df = load_full_data(filepath)\n",
    "X, y = get_features_and_target(df, feature_steps=range(1,7), target_col='step7')\n",
    "\n",
    "# --- Split data ---\n",
    "x_train, y_train, x_val, y_val, x_test, y_test = split_data(X, y)\n",
    "\n",
    "# --- Train model ---\n",
    "model = train_ridge(x_train, y_train, alpha=1.0)\n",
    "\n",
    "# --- Evaluate model ---\n",
    "evaluate_model(model, x_train, y_train, x_val, y_val, x_test, y_test)\n",
    "\n",
    "# --- Print coefficients ---\n",
    "print_coefficients(model)\n",
    "\n",
    "# --- 5-fold cross-validation ---\n",
    "cross_validate_model(X, y, k=5, model_type=\"ridge\", alpha=1.0)\n",
    "\n",
    "ci_df = kfold_bootstrap_ci_analysis(\n",
    "    model_type=\"ridge\",\n",
    "    X=X,\n",
    "    y=y,\n",
    "    k=5,\n",
    "    n_bootstraps=500,\n",
    "    alpha=0.05,\n",
    "    plot=False\n",
    ")"
   ]
  },
  {
   "cell_type": "markdown",
   "metadata": {},
   "source": [
    "## Lasso Regression (authentic cadence, notes only)"
   ]
  },
  {
   "cell_type": "code",
   "execution_count": 6,
   "metadata": {},
   "outputs": [
    {
     "name": "stdout",
     "output_type": "stream",
     "text": [
      "***** Evaluation Results *****\n",
      "Training set mean squared error: 16.8826\n",
      "Training set r-squared score: -0.6518\n",
      "Validation set mean squared error: 8.8756\n",
      "Validation set r-squared score: -4.2763\n",
      "Testing set mean squared error: 14.6054\n",
      "Testing set r-squared score: -0.4969\n",
      "\n",
      "Learned coefficients (weights for each step):\n",
      "Step 1: 0.0000\n",
      "Step 2: 0.0000\n",
      "Step 3: 0.0317\n",
      "Step 4: -0.0000\n",
      "Step 5: 0.4309\n",
      "Step 6: 0.5472\n",
      "\n",
      "***** 5-Fold Cross-Validation (Lasso) Results *****\n",
      "Fold 1: MSE = 19.6460, R² = -1.1874\n",
      "Fold 2: MSE = 27.7218, R² = -0.7773\n",
      "Fold 3: MSE = 12.8603, R² = -0.7447\n",
      "Fold 4: MSE = 13.5627, R² = -0.4810\n",
      "Fold 5: MSE = 13.3910, R² = -3.6324\n",
      "\n",
      "***** Average over 5 folds *****\n",
      "Average MSE: 17.4364\n",
      "Average R²: -1.3646\n",
      "\n",
      "Overall coverage across all folds: 40.00% within 95% CI\n"
     ]
    }
   ],
   "source": [
    "# --- Load truncated stems of all cadences ---\n",
    "filepath = 'data/truncated_stems.csv'\n",
    "df = load_filtered_data(filepath)\n",
    "X, y = get_features_and_target(df, feature_steps=range(1,7), target_col='step7')\n",
    "\n",
    "# --- Split data ---\n",
    "x_train, y_train, x_val, y_val, x_test, y_test = split_data(X, y)\n",
    "\n",
    "# --- Train model ---\n",
    "model = train_lasso(x_train, y_train, alpha=1.0)\n",
    "\n",
    "# --- Evaluate model ---\n",
    "evaluate_model(model, x_train, y_train, x_val, y_val, x_test, y_test)\n",
    "\n",
    "# --- Print coefficients ---\n",
    "print_coefficients(model)\n",
    "\n",
    "# --- 5-fold cross-validation ---\n",
    "cross_validate_model(X, y, k=5, model_type=\"lasso\", alpha=1.0)\n",
    "\n",
    "ci_df = kfold_bootstrap_ci_analysis(\n",
    "    model_type=\"lasso\",\n",
    "    X=X,\n",
    "    y=y,\n",
    "    k=5,\n",
    "    n_bootstraps=500,\n",
    "    alpha=0.05,\n",
    "    plot=False\n",
    ")"
   ]
  },
  {
   "cell_type": "markdown",
   "metadata": {},
   "source": [
    "## Lasso Regression (all cadences, notes only)"
   ]
  },
  {
   "cell_type": "code",
   "execution_count": 7,
   "metadata": {},
   "outputs": [
    {
     "name": "stdout",
     "output_type": "stream",
     "text": [
      "***** Evaluation Results *****\n",
      "Training set mean squared error: 11.1471\n",
      "Training set r-squared score: -0.2922\n",
      "Validation set mean squared error: 12.1455\n",
      "Validation set r-squared score: -2.2575\n",
      "Testing set mean squared error: 14.3249\n",
      "Testing set r-squared score: -2.1546\n",
      "\n",
      "Learned coefficients (weights for each step):\n",
      "Step 1: 0.0310\n",
      "Step 2: -0.0000\n",
      "Step 3: 0.0046\n",
      "Step 4: 0.0267\n",
      "Step 5: 0.3700\n",
      "Step 6: 0.5756\n",
      "\n",
      "***** 5-Fold Cross-Validation (Lasso) Results *****\n",
      "Fold 1: MSE = 15.2465, R² = -0.3708\n",
      "Fold 2: MSE = 12.5669, R² = -0.7612\n",
      "Fold 3: MSE = 11.0464, R² = -0.8952\n",
      "Fold 4: MSE = 17.0015, R² = -2.1914\n",
      "Fold 5: MSE = 8.0766, R² = -0.0186\n",
      "\n",
      "***** Average over 5 folds *****\n",
      "Average MSE: 12.7876\n",
      "Average R²: -0.8474\n",
      "\n",
      "Overall coverage across all folds: 31.11% within 95% CI\n"
     ]
    }
   ],
   "source": [
    "# --- Load truncated stems of all cadences ---\n",
    "filepath = 'data/truncated_stems.csv'\n",
    "df = load_full_data(filepath)\n",
    "X, y = get_features_and_target(df, feature_steps=range(1,7), target_col='step7')\n",
    "\n",
    "# --- Split data ---\n",
    "x_train, y_train, x_val, y_val, x_test, y_test = split_data(X, y)\n",
    "\n",
    "# --- Train model ---\n",
    "model = train_lasso(x_train, y_train, alpha=1.0)\n",
    "\n",
    "# --- Evaluate model ---\n",
    "evaluate_model(model, x_train, y_train, x_val, y_val, x_test, y_test)\n",
    "\n",
    "# --- Print coefficients ---\n",
    "print_coefficients(model)\n",
    "\n",
    "# --- 5-fold cross-validation ---\n",
    "cross_validate_model(X, y, k=5, model_type=\"lasso\", alpha=1.0)\n",
    "\n",
    "ci_df = kfold_bootstrap_ci_analysis(\n",
    "    model_type=\"lasso\",\n",
    "    X=X,\n",
    "    y=y,\n",
    "    k=5,\n",
    "    n_bootstraps=500,\n",
    "    alpha=0.05,\n",
    "    plot=False\n",
    ")"
   ]
  }
 ],
 "metadata": {
  "kernelspec": {
   "display_name": "venv",
   "language": "python",
   "name": "python3"
  },
  "language_info": {
   "codemirror_mode": {
    "name": "ipython",
    "version": 3
   },
   "file_extension": ".py",
   "mimetype": "text/x-python",
   "name": "python",
   "nbconvert_exporter": "python",
   "pygments_lexer": "ipython3",
   "version": "3.10.9"
  }
 },
 "nbformat": 4,
 "nbformat_minor": 2
}
